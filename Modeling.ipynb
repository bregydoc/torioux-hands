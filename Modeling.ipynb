{
 "cells": [
  {
   "cell_type": "code",
   "execution_count": 93,
   "metadata": {},
   "outputs": [],
   "source": [
    "import keras\n",
    "from keras.models import Sequential, Model\n",
    "from keras.layers import Dense, Dropout, Flatten, Input\n",
    "from keras.layers import Conv2D, MaxPooling2D, Concatenate\n",
    "from keras.optimizers import SGD\n",
    "from keras.preprocessing.image import ImageDataGenerator\n",
    "\n",
    "import numpy as np\n",
    "\n",
    "from os import listdir\n",
    "from os.path import isfile, join\n",
    "\n",
    "import pandas as pd\n",
    "\n",
    "from PIL import Image\n",
    "import cv2\n",
    "\n",
    "from matplotlib import pyplot as plt\n",
    "\n",
    "%matplotlib inline\n"
   ]
  },
  {
   "cell_type": "code",
   "execution_count": 20,
   "metadata": {},
   "outputs": [],
   "source": [
    "def getActiveNeuron(gender):\n",
    "    if gender == 'male':\n",
    "        return np.array([1, 0])\n",
    "    else:\n",
    "        return np.array([0, 1])"
   ]
  },
  {
   "cell_type": "code",
   "execution_count": 86,
   "metadata": {},
   "outputs": [
    {
     "name": "stdout",
     "output_type": "stream",
     "text": [
      "Making little dataset with 1108 images\n"
     ]
    }
   ],
   "source": [
    "# Generating dataset:\n",
    "\n",
    "IMAGES_SIZE = (100,100)\n",
    "datasetbase_path = './hands_dataset/'\n",
    "datasetless_path = './lessDataset_bregy/'\n",
    "\n",
    "datasetInfo = pd.read_csv('./HandInfo.csv')\n",
    "sampleHands = datasetInfo.sample(frac=0.1)\n",
    "\n",
    "print \"Making little dataset with %i images\"%len(sampleHands)\n",
    "\n",
    "images_names = []\n",
    "for i in xrange(len(sampleHands)):\n",
    "    iname = sampleHands.iloc[i]['imageName']\n",
    "    images_names.append(iname)\n",
    "    img = Image.open(join(datasetbase_path, iname))\n",
    "    img = img.resize(IMAGES_SIZE)\n",
    "    img = img.rotate(angle=180)\n",
    "    img.save(join(datasetless_path, iname))\n"
   ]
  },
  {
   "cell_type": "code",
   "execution_count": 87,
   "metadata": {},
   "outputs": [],
   "source": [
    "labels_gender = []\n",
    "labels_binary = []\n",
    "total_images = []\n",
    "\n",
    "genderToOut = {'male':0, 'female': 1}\n",
    "sample_by_name = sampleHands.set_index('imageName')\n",
    "for s in range(len(sample_by_name)):\n",
    "    \n",
    "    namei = images_names[s]\n",
    "    image = cv2.imread(join(datasetless_path, namei))\n",
    "    total_images.append(image)\n",
    "    \n",
    "    \n",
    "    gender = sample_by_name.loc[namei, 'gender']\n",
    "    if not 'str' in str(type(gender)):\n",
    "        labels_gender.append(gender[0])\n",
    "        labels_binary.append(getActiveNeuron(gender[0]))\n",
    "    else:\n",
    "        labels_gender.append(gender)\n",
    "        labels_binary.append(getActiveNeuron(gender))\n",
    "\n",
    "total_images = np.array(total_images)\n",
    "labels_binary = np.array(labels_binary)\n",
    "\n",
    "labels_bin_one = []\n",
    "for g in labels_gender:\n",
    "    labels_bin_one.append(genderToOut[g])\n",
    "labels_bin_one = np.array(labels_bin_one)"
   ]
  },
  {
   "cell_type": "code",
   "execution_count": 88,
   "metadata": {},
   "outputs": [
    {
     "data": {
      "text/plain": [
       "(array([ 388.,    0.,    0.,    0.,    0.,    0.,    0.,    0.,    0.,  720.]),\n",
       " array([ 0. ,  0.1,  0.2,  0.3,  0.4,  0.5,  0.6,  0.7,  0.8,  0.9,  1. ]),\n",
       " <a list of 10 Patch objects>)"
      ]
     },
     "execution_count": 88,
     "metadata": {},
     "output_type": "execute_result"
    },
    {
     "data": {
      "image/png": "[encoded data removed]",
      "text/plain": [
       "<matplotlib.figure.Figure at 0x171c660d0>"
      ]
     },
     "metadata": {},
     "output_type": "display_data"
    }
   ],
   "source": [
    "plt.hist(labels_bin_one)"
   ]
  },
  {
   "cell_type": "code",
   "execution_count": 89,
   "metadata": {},
   "outputs": [
    {
     "name": "stdout",
     "output_type": "stream",
     "text": [
      "(1108, 100, 100, 3)\n",
      "(1108, 2)\n",
      "(1108,)\n"
     ]
    }
   ],
   "source": [
    "print total_images.shape\n",
    "print labels_binary.shape\n",
    "print labels_bin_one.shape"
   ]
  },
  {
   "cell_type": "code",
   "execution_count": 90,
   "metadata": {},
   "outputs": [],
   "source": [
    "patterns_extract = Sequential()\n",
    "\n",
    "patterns_extract.add(Conv2D(16, (3, 3), activation='relu', input_shape=(IMAGES_SIZE[0], IMAGES_SIZE[1], 3)))\n",
    "patterns_extract.add(Conv2D(16, (3, 3), activation='relu'))\n",
    "patterns_extract.add(MaxPooling2D(pool_size=(2, 2)))\n",
    "patterns_extract.add(Dropout(0.25))\n",
    "\n",
    "patterns_extract.add(Conv2D(32, (3, 3), activation='relu'))\n",
    "patterns_extract.add(Conv2D(32, (3, 3), activation='relu'))\n",
    "patterns_extract.add(MaxPooling2D(pool_size=(2, 2)))\n",
    "patterns_extract.add(Dropout(0.25))\n",
    "\n",
    "patterns_extract.add(Conv2D(64, (3, 3), activation='relu'))\n",
    "patterns_extract.add(Conv2D(64, (3, 3), activation='relu'))\n",
    "patterns_extract.add(MaxPooling2D(pool_size=(2, 2)))\n",
    "patterns_extract.add(Dropout(0.25))\n",
    "\n",
    "patterns_extract.add(Flatten())\n",
    "\n",
    "patterns_extract.add(Dense(2000, activation='relu'))\n",
    "patterns_extract.add(Dropout(0.5))\n",
    "patterns_extract.add(Dense(1500, activation='relu'))\n",
    "patterns_extract.add(Dropout(0.5))\n",
    "patterns_extract.add(Dense(1500, activation='relu'))\n",
    "patterns_extract.add(Dropout(0.5))\n",
    "patterns_extract.add(Dense(1000, activation='relu'))\n",
    "patterns_extract.add(Dropout(0.5))\n",
    "\n",
    "patterns_extract.add(Dense(1, activation='sigmoid'))\n",
    "\n",
    "sgd = SGD(lr=0.12, decay=1e-2)\n",
    "patterns_extract.compile(loss='binary_crossentropy', optimizer=sgd, metrics=['accuracy'])"
   ]
  },
  {
   "cell_type": "code",
   "execution_count": 94,
   "metadata": {},
   "outputs": [
    {
     "name": "stdout",
     "output_type": "stream",
     "text": [
      "_________________________________________________________________\n",
      "Layer (type)                 Output Shape              Param #   \n",
      "=================================================================\n",
      "conv2d_117 (Conv2D)          (None, 98, 98, 16)        448       \n",
      "_________________________________________________________________\n",
      "conv2d_118 (Conv2D)          (None, 96, 96, 16)        2320      \n",
      "_________________________________________________________________\n",
      "max_pooling2d_59 (MaxPooling (None, 48, 48, 16)        0         \n",
      "_________________________________________________________________\n",
      "dropout_105 (Dropout)        (None, 48, 48, 16)        0         \n",
      "_________________________________________________________________\n",
      "conv2d_119 (Conv2D)          (None, 46, 46, 32)        4640      \n",
      "_________________________________________________________________\n",
      "conv2d_120 (Conv2D)          (None, 44, 44, 32)        9248      \n",
      "_________________________________________________________________\n",
      "max_pooling2d_60 (MaxPooling (None, 22, 22, 32)        0         \n",
      "_________________________________________________________________\n",
      "dropout_106 (Dropout)        (None, 22, 22, 32)        0         \n",
      "_________________________________________________________________\n",
      "conv2d_121 (Conv2D)          (None, 20, 20, 64)        18496     \n",
      "_________________________________________________________________\n",
      "conv2d_122 (Conv2D)          (None, 18, 18, 64)        36928     \n",
      "_________________________________________________________________\n",
      "max_pooling2d_61 (MaxPooling (None, 9, 9, 64)          0         \n",
      "_________________________________________________________________\n",
      "dropout_107 (Dropout)        (None, 9, 9, 64)          0         \n",
      "_________________________________________________________________\n",
      "flatten_25 (Flatten)         (None, 5184)              0         \n",
      "_________________________________________________________________\n",
      "dense_110 (Dense)            (None, 2000)              10370000  \n",
      "_________________________________________________________________\n",
      "dropout_108 (Dropout)        (None, 2000)              0         \n",
      "_________________________________________________________________\n",
      "dense_111 (Dense)            (None, 1500)              3001500   \n",
      "_________________________________________________________________\n",
      "dropout_109 (Dropout)        (None, 1500)              0         \n",
      "_________________________________________________________________\n",
      "dense_112 (Dense)            (None, 1500)              2251500   \n",
      "_________________________________________________________________\n",
      "dropout_110 (Dropout)        (None, 1500)              0         \n",
      "_________________________________________________________________\n",
      "dense_113 (Dense)            (None, 1000)              1501000   \n",
      "_________________________________________________________________\n",
      "dropout_111 (Dropout)        (None, 1000)              0         \n",
      "_________________________________________________________________\n",
      "dense_114 (Dense)            (None, 1)                 1001      \n",
      "=================================================================\n",
      "Total params: 17,197,081\n",
      "Trainable params: 17,197,081\n",
      "Non-trainable params: 0\n",
      "_________________________________________________________________\n"
     ]
    }
   ],
   "source": [
    "patterns_extract.summary()"
   ]
  },
  {
   "cell_type": "code",
   "execution_count": null,
   "metadata": {},
   "outputs": [
    {
     "name": "stdout",
     "output_type": "stream",
     "text": [
      "Epoch 1/100\n",
      "1108/1108 [==============================] - 49s 44ms/step - loss: 9.5779 - acc: 0.4052\n",
      "Epoch 2/100\n",
      "1024/1108 [==========================>...] - ETA: 3s - loss: 9.5301 - acc: 0.4082"
     ]
    }
   ],
   "source": [
    "hist = patterns_extract.fit(total_images, labels_bin_one, epochs=100, batch_size=64)"
   ]
  },
  {
   "cell_type": "code",
   "execution_count": 85,
   "metadata": {},
   "outputs": [
    {
     "data": {
      "text/plain": [
       "<matplotlib.image.AxesImage at 0x292ec3f50>"
      ]
     },
     "execution_count": 85,
     "metadata": {},
     "output_type": "execute_result"
    },
    {
     "data": {
      "image/png": "[encoded data removed]",
      "text/plain": [
       "<matplotlib.figure.Figure at 0x292d08a10>"
      ]
     },
     "metadata": {},
     "output_type": "display_data"
    }
   ],
   "source": [
    "plt.imshow(total_images[30], interpolation='none')"
   ]
  },
  {
   "cell_type": "code",
   "execution_count": 14,
   "metadata": {},
   "outputs": [
    {
     "data": {
      "text/plain": [
       "[0.36148237022789809,\n",
       " 0.34927797895799045,\n",
       " 0.34927797645653197,\n",
       " 0.34927797712896708,\n",
       " 0.34927797963042551,\n",
       " 0.34927797963042551,\n",
       " 0.34927798183601255,\n",
       " 0.34927798067942423,\n",
       " 0.34927797712896708,\n",
       " 0.34927797817796574]"
      ]
     },
     "execution_count": 14,
     "metadata": {},
     "output_type": "execute_result"
    }
   ],
   "source": [
    "hist.history['loss']"
   ]
  },
  {
   "cell_type": "code",
   "execution_count": 86,
   "metadata": {},
   "outputs": [
    {
     "data": {
      "text/plain": [
       "(array([ 404.,    0.,    0.,    0.,    0.,    0.,    0.,    0.,    0.,  704.]),\n",
       " array([ 0. ,  0.1,  0.2,  0.3,  0.4,  0.5,  0.6,  0.7,  0.8,  0.9,  1. ]),\n",
       " <a list of 10 Patch objects>)"
      ]
     },
     "execution_count": 86,
     "metadata": {},
     "output_type": "execute_result"
    },
    {
     "data": {
      "image/png": "[encoded data removed]",
      "text/plain": [
       "<matplotlib.figure.Figure at 0x11f88a3d0>"
      ]
     },
     "metadata": {},
     "output_type": "display_data"
    }
   ],
   "source": [
    "ages= sampleHands.iloc[:]['gender']\n",
    "agesArr = []\n",
    "mldict = {'male': 0, 'female':  1}\n",
    "for i in range(len(ages)):\n",
    "    agesArr.append(mldict[ages.iloc[i]])\n",
    "plt.hist(agesArr)"
   ]
  },
  {
   "cell_type": "code",
   "execution_count": 24,
   "metadata": {},
   "outputs": [],
   "source": [
    "from matplotlib import pyplot as plt\n",
    "%matplotlib inline"
   ]
  },
  {
   "cell_type": "code",
   "execution_count": null,
   "metadata": {},
   "outputs": [],
   "source": []
  }
 ],
 "metadata": {
  "kernelspec": {
   "display_name": "Python 2",
   "language": "python",
   "name": "python2"
  }
 },
 "nbformat": 4,
 "nbformat_minor": 2
}
